{
 "cells": [
  {
   "cell_type": "code",
   "execution_count": 2,
   "metadata": {},
   "outputs": [],
   "source": [
    "import pandas as pd\n",
    "import numpy as np\n",
    "import seaborn as sns\n",
    "import warnings\n",
    "import matplotlib.pyplot as plt\n",
    "from sklearn.model_selection import train_test_split\n",
    "import lightgbm as lgb\n",
    "from sklearn.model_selection import StratifiedKFold, KFold\n",
    "from sklearn.linear_model import LogisticRegression\n",
    "from sklearn.metrics import roc_auc_score\n",
    "from statsmodels.discrete.discrete_model import Logit\n",
    "warnings.simplefilter(action='ignore')"
   ]
  },
  {
   "cell_type": "code",
   "execution_count": 3,
   "metadata": {},
   "outputs": [],
   "source": [
    "FEATURES_EXCLUDED = []\n",
    "data = pd.read_csv('data/clean_data_feats.csv')\n",
    "target = data['bad']\n",
    "data.drop(['bad',], axis=1, inplace=True)"
   ]
  },
  {
   "cell_type": "code",
   "execution_count": 4,
   "metadata": {},
   "outputs": [
    {
     "name": "stdout",
     "output_type": "stream",
     "text": [
      "(15158, 44) (15158,)\n",
      "(2675, 44) (2675,)\n"
     ]
    }
   ],
   "source": [
    "X_train, X_test, y_train, y_test = train_test_split(data, target, test_size=0.15, random_state=42)\n",
    "print(X_train.shape, y_train.shape)\n",
    "print(X_test.shape, y_test.shape)"
   ]
  },
  {
   "cell_type": "code",
   "execution_count": 8,
   "metadata": {},
   "outputs": [
    {
     "data": {
      "text/plain": [
       "Index(['mob', 'MOB_term', 'Credit_TermApr', 'maxdelay_one', 'delays_one',\n",
       "       'MA_AGE', 'MA_Gender', 'MANUMBEROFCHILD', 'MA_MONTH_AT_CURR_ADDRESS',\n",
       "       'MA_Real_Estate_Owner', 'MA_REG_Same_Fact_Addr',\n",
       "       'MA_MONTH_AT_CURR_PASSP', 'MA_Exp_IND', 'MA_MONTH_AT_CURR_JOB',\n",
       "       'MA_Time_Previous_Job', 'MA_Proposed_Amount', 'TOT_INCOME',\n",
       "       'PARTWH_INCOME', 'PAYMD2TOTPAYM', 'PTI', 'ratio_curr_cap_share',\n",
       "       'larger_diff_term', 'ratio_inst_amount', 'freq_nnkd', 'EQ_PP',\n",
       "       'diff_white_pti', 'ratio_time_job', 'ratio_amount_income',\n",
       "       'MA_Education_0', 'MA_Education_1', 'MA_Education_2', 'MA_Education_3',\n",
       "       'MA_Education_4', 'MA_Marital_Status_1', 'MA_Marital_Status_2',\n",
       "       'MA_Marital_Status_3', 'MA_Marital_Status_4', 'MA_Marital_Status_5',\n",
       "       'MA_Marital_Status_6', 'MA_Residential_Status_1',\n",
       "       'MA_Residential_Status_2', 'MA_Residential_Status_3',\n",
       "       'MA_Residential_Status_4', 'MA_Residential_Status_5'],\n",
       "      dtype='object')"
      ]
     },
     "execution_count": 8,
     "metadata": {},
     "output_type": "execute_result"
    }
   ],
   "source": [
    "X_train.columns"
   ]
  },
  {
   "cell_type": "code",
   "execution_count": 9,
   "metadata": {},
   "outputs": [],
   "source": [
    "feats_to_ohe = ['MA_Education', 'MA_Marital_Status', 'MA_Residential_Status']\n",
    "\n",
    "other_feats = ['MA_AGE', 'MA_Gender','MANUMBEROFCHILD', 'MA_MONTH_AT_CURR_ADDRESS', 'MA_Real_Estate_Owner', 'MA_REG_Same_Fact_Addr',\n",
    "              'MA_MONTH_AT_CURR_PASSP', 'MA_Exp_IND', 'MA_MONTH_AT_CURR_JOB', 'MA_Time_Previous_Job', 'MA_Education_0', 'MA_Education_1', 'MA_Education_2', 'MA_Education_3',\n",
    "       'MA_Education_4', 'MA_Marital_Status_1', 'MA_Marital_Status_2',\n",
    "       'MA_Marital_Status_3', 'MA_Marital_Status_4', 'MA_Marital_Status_5',\n",
    "       'MA_Marital_Status_6', 'MA_Residential_Status_1',\n",
    "       'MA_Residential_Status_2', 'MA_Residential_Status_3',\n",
    "       'MA_Residential_Status_4', 'MA_Residential_Status_5']\n",
    "\n",
    "feat_encodes = ['mob', 'MOB_term', 'Credit_TermApr', 'maxdelay_one', 'delays_one', 'TOT_INCOME', 'MA_Proposed_Amount', \n",
    "                'PAYMD2TOTPAYM', 'PTI', 'ratio_inst_amount', 'diff_white_pti', 'ratio_time_job', 'ratio_amount_income']"
   ]
  },
  {
   "cell_type": "code",
   "execution_count": 6,
   "metadata": {},
   "outputs": [],
   "source": [
    "def lgb_other(params, train, test, target, y_test, metrics_f=roc_auc_score, num_folds=5, rs=42):\n",
    "    folds = StratifiedKFold(n_splits=num_folds, shuffle=True, random_state=rs)\n",
    "    \n",
    "    oof_preds = np.zeros(len(train))\n",
    "    sub_preds = np.zeros(len(test))\n",
    "    valid_roc = 0\n",
    "    feats = [f for f in train.columns if f not in FEATURES_EXCLUDED]\n",
    "    \n",
    "    for n_fold, (train_idx, valid_idx) in enumerate(folds.split(train[feats], target)):\n",
    "        train_x, train_y = train[feats].iloc[train_idx], target.iloc[train_idx]\n",
    "        valid_x, valid_y = train[feats].iloc[valid_idx], target.iloc[valid_idx]\n",
    "\n",
    "            # set data structure\n",
    "        lgb_train = lgb.Dataset(train_x,\n",
    "                                    label=train_y,\n",
    "                                    free_raw_data=False)\n",
    "        lgb_test = lgb.Dataset(valid_x,\n",
    "                                   label=valid_y,\n",
    "                                   free_raw_data=False)\n",
    "        reg = lgb.train(\n",
    "                params,\n",
    "                lgb_train,\n",
    "                valid_sets=[lgb_train, lgb_test],\n",
    "                valid_names=['train', 'test'],\n",
    "                num_boost_round=750,\n",
    "                early_stopping_rounds=200,\n",
    "                verbose_eval=False,\n",
    "\n",
    "        )\n",
    "\n",
    "        oof_preds[valid_idx] = reg.predict(valid_x, num_iteration=reg.best_iteration)\n",
    "        sub_preds += reg.predict(test[feats], num_iteration=reg.best_iteration) / folds.n_splits\n",
    "        valid_roc += metrics_f(valid_y, oof_preds[valid_idx])\n",
    "        print(\"CV score in {} fold: {:<8.7f}\\n\".format(n_fold + 1, metrics_f(valid_y, oof_preds[valid_idx])))\n",
    "        \n",
    "    valid_roc /= num_folds\n",
    "    print(\"CV score on valid/test: {:<8.7f}/{:<8.7f}\\n\".format(valid_roc, metrics_f(y_test, sub_preds)))\n",
    "        \n",
    "    return sub_preds, oof_preds"
   ]
  },
  {
   "cell_type": "code",
   "execution_count": 10,
   "metadata": {},
   "outputs": [
    {
     "name": "stdout",
     "output_type": "stream",
     "text": [
      "CV score in 1 fold: 0.5964378\n",
      "\n",
      "CV score in 2 fold: 0.6455612\n",
      "\n",
      "CV score in 3 fold: 0.6197472\n",
      "\n",
      "CV score in 4 fold: 0.6270807\n",
      "\n",
      "CV score in 5 fold: 0.6221792\n",
      "\n",
      "CV score on valid/test: 0.6222012/0.6524415\n",
      "\n"
     ]
    }
   ],
   "source": [
    "param_other = {\n",
    "    'learning_rate': 0.01,\n",
    "    'num_leaves': 31,\n",
    "    'reg_alpha': 2,\n",
    "    'metric':'auc',\n",
    "    'boost_from_average':'false',\n",
    "    'feature_fraction': 0.8,\n",
    "    'max_depth': 5,\n",
    "    'objective': 'binary',\n",
    "    'max_bin': 256,\n",
    "    'verbosity': -10}\n",
    "\n",
    "pred_other, oof_other = lgb_other(param_other, X_train[other_feats], X_test[other_feats], y_train, y_test)"
   ]
  },
  {
   "cell_type": "code",
   "execution_count": null,
   "metadata": {},
   "outputs": [],
   "source": [
    "CV score on valid/test: 0.5733181/0.5920946\n",
    "CV score on valid/test: 0.6253259/0.6548070"
   ]
  },
  {
   "cell_type": "markdown",
   "metadata": {},
   "source": [
    "## Encoding part"
   ]
  },
  {
   "cell_type": "code",
   "execution_count": 11,
   "metadata": {},
   "outputs": [],
   "source": [
    "def encode_FE(df_train, df_test, cols):\n",
    "    train, test = df_train.copy(), df_test.copy()\n",
    "    \n",
    "    for col in cols:\n",
    "        cv = train[col].value_counts()\n",
    "        nm = col+'_FE'\n",
    "        train[nm] = train[col].map(cv)\n",
    "\n",
    "        test[nm] = test[col].map(cv)\n",
    "        test[nm].fillna(0,inplace=True)\n",
    "\n",
    "        if cv.max()<=255:\n",
    "            train[nm] = train[nm].astype('uint8')\n",
    "            test[nm] = test[nm].astype('uint8')\n",
    "        else:\n",
    "            train[nm] = train[nm].astype('uint16')\n",
    "            test[nm] = test[nm].astype('uint16')  \n",
    "        \n",
    "        \n",
    "    return train, test"
   ]
  },
  {
   "cell_type": "code",
   "execution_count": 12,
   "metadata": {},
   "outputs": [],
   "source": [
    "train_enc, test_enc = encode_FE(X_train, X_test, feat_encodes)"
   ]
  },
  {
   "cell_type": "code",
   "execution_count": 13,
   "metadata": {},
   "outputs": [],
   "source": [
    "param = {\n",
    "    'learning_rate': 0.04,\n",
    "    'num_leaves': 31,\n",
    "    'reg_alpha': 1,\n",
    "    'metric':'auc',\n",
    "    'boost_from_average':'false',\n",
    "    'feature_fraction': 1.0,\n",
    "    'max_depth': -1,\n",
    "    'objective': 'binary',\n",
    "    'max_bin': 256,\n",
    "    'verbosity': -10}\n",
    "\n",
    "param_list = {'reg_alpha': [0.1, 0.5, 0.75, 1],\n",
    "              'learning_rate': [0.05, 0.1, 0.12],\n",
    "              'num_leaves': [3, 4, 5],\n",
    "              'max_bin': [256, 512, 1024]\n",
    "                 }"
   ]
  },
  {
   "cell_type": "code",
   "execution_count": 161,
   "metadata": {},
   "outputs": [],
   "source": [
    "def lgb_feats_search_params(params, params_list,  train, test, target, y_test, metrics_f=roc_auc_score, num_folds=5, rs=42):\n",
    "    param_dict = {'reg_alpha': np.zeros(len(feat_encodes)),\n",
    "                 'learning_rate': np.zeros(len(feat_encodes)),\n",
    "                 'num_leaves': np.zeros(len(feat_encodes)),\n",
    "                 'max_bin': np.zeros(len(feat_encodes)),\n",
    "                  'roc': np.zeros(len(feat_encodes))\n",
    "                 }\n",
    "    \n",
    "    for j, feat in enumerate(feat_encodes):\n",
    "        feats = [feat, feat+'_FE']\n",
    "        valid_roc_max = 0\n",
    "        \n",
    "        for a in params_list['reg_alpha']:\n",
    "            for lr in params_list['learning_rate']:\n",
    "                for nl in params_list['num_leaves']:\n",
    "                    for mb in params_list['max_bin']:\n",
    "                        \n",
    "                                params['max_bin'] = mb\n",
    "                                params['learning_rate'] = lr\n",
    "                                params['reg_alpha'] = a\n",
    "                                params['num_leaves'] = nl\n",
    "\n",
    "        \n",
    "                                oof_preds = np.zeros(len(train))\n",
    "                                valid_roc = 0\n",
    "                                \n",
    "\n",
    "                                folds = StratifiedKFold(n_splits=num_folds, shuffle=True, random_state=rs)\n",
    "\n",
    "                                for n_fold, (train_idx, valid_idx) in enumerate(folds.split(train[feats], target)):\n",
    "                                    train_x, train_y = train[feats].iloc[train_idx], target.iloc[train_idx]\n",
    "                                    valid_x, valid_y = train[feats].iloc[valid_idx], target.iloc[valid_idx]\n",
    "\n",
    "                                    # set data structure\n",
    "                                    lgb_train = lgb.Dataset(train_x,\n",
    "                                                            label=train_y,\n",
    "                                                            free_raw_data=False)\n",
    "                                    lgb_test = lgb.Dataset(valid_x,\n",
    "                                                           label=valid_y,\n",
    "                                                           free_raw_data=False)\n",
    "                                    reg = lgb.train(\n",
    "                                        params,\n",
    "                                        lgb_train,\n",
    "                                        valid_sets=[lgb_train, lgb_test],\n",
    "                                        valid_names=['train', 'test'],\n",
    "                                        num_boost_round=750,\n",
    "                                        early_stopping_rounds=200,\n",
    "                                        verbose_eval=False,\n",
    "\n",
    "                                    )\n",
    "\n",
    "                                    oof_preds[valid_idx] = reg.predict(valid_x, num_iteration=reg.best_iteration)\n",
    "                                    valid_roc += metrics_f(valid_y, oof_preds[valid_idx])\n",
    "                                    \n",
    "                                valid_roc /= num_folds\n",
    "                                \n",
    "                                if valid_roc_max < valid_roc:\n",
    "                                    param_dict['reg_alpha'][j] = params['reg_alpha']\n",
    "                                    param_dict['learning_rate'][j] = params['learning_rate']\n",
    "                                    param_dict['num_leaves'][j] = params['num_leaves']\n",
    "                                    param_dict['max_bin'][j] = params['max_bin']\n",
    "                                    param_dict['roc'][j] = valid_roc\n",
    "                                    valid_roc_max = valid_roc\n",
    "                \n",
    "        print(\"feat {}, lr: {}, reg: {}, num_leaves: {}, max_bin: {}, roc: {:<8.7f}\\n\".format(feat, param_dict['learning_rate'][j], param_dict['reg_alpha'][j], param_dict['num_leaves'][j],\n",
    "                                                                                              param_dict['max_bin'][j], param_dict['roc'][j]))\n",
    "        \n",
    "    return param_dict"
   ]
  },
  {
   "cell_type": "code",
   "execution_count": 162,
   "metadata": {},
   "outputs": [
    {
     "name": "stdout",
     "output_type": "stream",
     "text": [
      "feat mob, lr: 0.05, reg: 0.5, num_leaves: 3.0, max_bin: 256.0, roc: 0.5264604\n",
      "\n",
      "feat MOB_term, lr: 0.1, reg: 0.1, num_leaves: 5.0, max_bin: 512.0, roc: 0.5316353\n",
      "\n",
      "feat Credit_TermApr, lr: 0.12, reg: 1.0, num_leaves: 5.0, max_bin: 256.0, roc: 0.5297721\n",
      "\n",
      "feat maxdelay_one, lr: 0.12, reg: 1.0, num_leaves: 4.0, max_bin: 256.0, roc: 0.7123746\n",
      "\n",
      "feat delays_one, lr: 0.05, reg: 0.1, num_leaves: 3.0, max_bin: 256.0, roc: 0.5781363\n",
      "\n",
      "feat TOT_INCOME, lr: 0.12, reg: 0.5, num_leaves: 5.0, max_bin: 1024.0, roc: 0.5878517\n",
      "\n",
      "feat MA_Proposed_Amount, lr: 0.12, reg: 0.75, num_leaves: 5.0, max_bin: 256.0, roc: 0.5547185\n",
      "\n",
      "feat PAYMD2TOTPAYM, lr: 0.12, reg: 0.1, num_leaves: 5.0, max_bin: 512.0, roc: 0.6612326\n",
      "\n",
      "feat PTI, lr: 0.12, reg: 0.5, num_leaves: 5.0, max_bin: 1024.0, roc: 0.6265637\n",
      "\n",
      "feat ratio_inst_amount, lr: 0.12, reg: 0.1, num_leaves: 5.0, max_bin: 1024.0, roc: 0.6175470\n",
      "\n",
      "feat diff_white_pti, lr: 0.12, reg: 0.1, num_leaves: 5.0, max_bin: 1024.0, roc: 0.6366125\n",
      "\n",
      "feat ratio_time_job, lr: 0.12, reg: 0.1, num_leaves: 5.0, max_bin: 1024.0, roc: 0.5883688\n",
      "\n",
      "feat ratio_amount_income, lr: 0.12, reg: 0.75, num_leaves: 5.0, max_bin: 1024.0, roc: 0.6025186\n",
      "\n",
      "Wall time: 51min 23s\n"
     ]
    }
   ],
   "source": [
    "%%time\n",
    "final_param_dict_new = lgb_feats_search_params(param, param_list, train, test, y_train, y_test)"
   ]
  },
  {
   "cell_type": "code",
   "execution_count": 165,
   "metadata": {},
   "outputs": [],
   "source": [
    "final_param_dict_new['num_leaves'] = final_param_dict_new['num_leaves'].astype(int)\n",
    "final_param_dict_new['max_bin'] = final_param_dict_new['max_bin'].astype(int)"
   ]
  },
  {
   "cell_type": "code",
   "execution_count": 88,
   "metadata": {},
   "outputs": [
    {
     "name": "stdout",
     "output_type": "stream",
     "text": [
      "feat mob, lr: 0.04, reg: 1.0, num_leaves: 3.0, max_bin: 256.0, roc: 0.5260609\n",
      "\n",
      "feat MOB_term, lr: 0.12, reg: 1.0, num_leaves: 5.0, max_bin: 512.0, roc: 0.5299255\n",
      "\n",
      "feat Credit_TermApr, lr: 0.08, reg: 1.0, num_leaves: 5.0, max_bin: 256.0, roc: 0.5298061\n",
      "\n",
      "feat maxdelay_one, lr: 0.12, reg: 1.0, num_leaves: 4.0, max_bin: 256.0, roc: 0.7123746\n",
      "\n",
      "feat delays_one, lr: 0.04, reg: 0.75, num_leaves: 3.0, max_bin: 256.0, roc: 0.5781363\n",
      "\n",
      "feat TOT_INCOME, lr: 0.12, reg: 0.75, num_leaves: 5.0, max_bin: 1024.0, roc: 0.5874339\n",
      "\n",
      "feat PAYMD2TOTPAYM, lr: 0.08, reg: 1.0, num_leaves: 5.0, max_bin: 512.0, roc: 0.6609248\n",
      "\n",
      "feat PTI, lr: 0.12, reg: 0.75, num_leaves: 5.0, max_bin: 1024.0, roc: 0.6255393\n",
      "\n",
      "feat ratio_inst_amount, lr: 0.12, reg: 0.75, num_leaves: 5.0, max_bin: 1024.0, roc: 0.6168904\n",
      "\n",
      "feat diff_white_pti, lr: 0.12, reg: 0.75, num_leaves: 5.0, max_bin: 1024.0, roc: 0.6361368\n",
      "\n",
      "feat ratio_time_job, lr: 0.12, reg: 1.0, num_leaves: 5.0, max_bin: 1024.0, roc: 0.5860101\n",
      "\n",
      "feat ratio_amount_income, lr: 0.12, reg: 0.75, num_leaves: 5.0, max_bin: 1024.0, roc: 0.6025186\n",
      "\n",
      "Wall time: 46min 1s\n"
     ]
    }
   ],
   "source": [
    "%%time\n",
    "final_param_dict = lgb_feats_search_params(param, param_list, train, test, y_train, y_test)"
   ]
  },
  {
   "cell_type": "code",
   "execution_count": 14,
   "metadata": {},
   "outputs": [],
   "source": [
    "def lgb_feats(params, param_dict, train, test, target, y_test, metrics_f=roc_auc_score, num_folds=5, rs=42):\n",
    "    all_oof_feats = np.zeros((len(train),len(feat_encodes)+1))\n",
    "    all_oof_feats[:,0] = np.ones(len(train))\n",
    "\n",
    "    all_preds_feats = np.zeros((len(test),len(feat_encodes)+1))\n",
    "    all_preds_feats[:,0] = np.ones(len(test))\n",
    "    \n",
    "    for j, feat in enumerate(feat_encodes):\n",
    "        params['reg_alpha'] = param_dict['reg_alpha'][j]\n",
    "        params['learning_rate'] = param_dict['learning_rate'][j]\n",
    "        params['num_leaves'] = param_dict['num_leaves'][j]\n",
    "        params['max_bin'] = param_dict['max_bin'][j]\n",
    "        \n",
    "        feats = [feat, feat+'_FE']\n",
    "        oof_preds = np.zeros(len(train))\n",
    "        sub_preds = np.zeros(len(test))\n",
    "        valid_roc = 0\n",
    "\n",
    "        folds = StratifiedKFold(n_splits=num_folds, shuffle=True, random_state=rs)\n",
    "\n",
    "        for n_fold, (train_idx, valid_idx) in enumerate(folds.split(train[feats], target)):\n",
    "            train_x, train_y = train[feats].iloc[train_idx], target.iloc[train_idx]\n",
    "            valid_x, valid_y = train[feats].iloc[valid_idx], target.iloc[valid_idx]\n",
    "\n",
    "            # set data structure\n",
    "            lgb_train = lgb.Dataset(train_x,\n",
    "                                    label=train_y,\n",
    "                                    free_raw_data=False)\n",
    "            lgb_test = lgb.Dataset(valid_x,\n",
    "                                   label=valid_y,\n",
    "                                   free_raw_data=False)\n",
    "            reg = lgb.train(\n",
    "                params,\n",
    "                lgb_train,\n",
    "                valid_sets=[lgb_train, lgb_test],\n",
    "                valid_names=['train', 'test'],\n",
    "                num_boost_round=750,\n",
    "                early_stopping_rounds=200,\n",
    "                verbose_eval=False,\n",
    "\n",
    "            )\n",
    "\n",
    "            oof_preds[valid_idx] = reg.predict(valid_x, num_iteration=reg.best_iteration)\n",
    "            sub_preds += reg.predict(test[feats], num_iteration=reg.best_iteration) / folds.n_splits\n",
    "            valid_roc += metrics_f(valid_y, oof_preds[valid_idx])\n",
    "        valid_roc /= num_folds\n",
    "        print(\"feat {}, CV score on valid/test: {:<8.7f}/{:<8.7f}\\n\".format(feat, valid_roc, metrics_f(y_test, sub_preds)))\n",
    "        \n",
    "        all_oof_feats[:, j+1] = oof_preds\n",
    "        all_preds_feats[:, j+1] = sub_preds\n",
    "        \n",
    "    return all_oof_feats, all_preds_feats"
   ]
  },
  {
   "cell_type": "code",
   "execution_count": 89,
   "metadata": {},
   "outputs": [
    {
     "name": "stdout",
     "output_type": "stream",
     "text": [
      "feat mob, CV score on valid/test: 0.5006486/0.5245397\n",
      "\n",
      "feat MOB_term, CV score on valid/test: 0.5262788/0.5203474\n",
      "\n",
      "feat Credit_TermApr, CV score on valid/test: 0.5181776/0.5061834\n",
      "\n",
      "feat maxdelay_one, CV score on valid/test: 0.7116005/0.7067010\n",
      "\n",
      "feat delays_one, CV score on valid/test: 0.5781363/0.5856864\n",
      "\n",
      "feat TOT_INCOME, CV score on valid/test: 0.5788832/0.5577320\n",
      "\n",
      "feat PAYMD2TOTPAYM, CV score on valid/test: 0.6598520/0.5570885\n",
      "\n",
      "feat PTI, CV score on valid/test: 0.6131345/0.5778046\n",
      "\n",
      "feat ratio_inst_amount, CV score on valid/test: 0.6090152/0.5860251\n",
      "\n",
      "feat diff_white_pti, CV score on valid/test: 0.6242453/0.6000559\n",
      "\n",
      "feat ratio_time_job, CV score on valid/test: 0.5823891/0.5637585\n",
      "\n",
      "feat ratio_amount_income, CV score on valid/test: 0.5965900/0.5894216\n",
      "\n"
     ]
    }
   ],
   "source": [
    "# первый прогон\n",
    "all_oof, all_pred = lgb_feats(param, train, test, y_train, y_test)"
   ]
  },
  {
   "cell_type": "code",
   "execution_count": 104,
   "metadata": {},
   "outputs": [
    {
     "name": "stdout",
     "output_type": "stream",
     "text": [
      "feat mob, CV score on valid/test: 0.5260609/0.5218823\n",
      "\n",
      "feat MOB_term, CV score on valid/test: 0.5299255/0.5217813\n",
      "\n",
      "feat Credit_TermApr, CV score on valid/test: 0.5298061/0.4987082\n",
      "\n",
      "feat maxdelay_one, CV score on valid/test: 0.7123746/0.7069441\n",
      "\n",
      "feat delays_one, CV score on valid/test: 0.5781363/0.5856864\n",
      "\n",
      "feat TOT_INCOME, CV score on valid/test: 0.5874339/0.5694732\n",
      "\n",
      "feat PAYMD2TOTPAYM, CV score on valid/test: 0.6609248/0.5587995\n",
      "\n",
      "feat PTI, CV score on valid/test: 0.6255393/0.6030623\n",
      "\n",
      "feat ratio_inst_amount, CV score on valid/test: 0.6168904/0.5993003\n",
      "\n",
      "feat diff_white_pti, CV score on valid/test: 0.6361368/0.6192809\n",
      "\n",
      "feat ratio_time_job, CV score on valid/test: 0.5860101/0.5756191\n",
      "\n",
      "feat ratio_amount_income, CV score on valid/test: 0.6025186/0.6085486\n",
      "\n"
     ]
    }
   ],
   "source": [
    "#прогон с подобранными гиперпараметрами\n",
    "all_oof, all_pred = lgb_feats(param, final_param_dict, train, test, y_train, y_test)"
   ]
  },
  {
   "cell_type": "code",
   "execution_count": 168,
   "metadata": {},
   "outputs": [
    {
     "name": "stdout",
     "output_type": "stream",
     "text": [
      "feat mob, CV score on valid/test: 0.5264604/0.5208367\n",
      "\n",
      "feat MOB_term, CV score on valid/test: 0.5316353/0.5230164\n",
      "\n",
      "feat Credit_TermApr, CV score on valid/test: 0.5297721/0.4995786\n",
      "\n",
      "feat maxdelay_one, CV score on valid/test: 0.7123746/0.7069441\n",
      "\n",
      "feat delays_one, CV score on valid/test: 0.5781363/0.5856864\n",
      "\n",
      "feat TOT_INCOME, CV score on valid/test: 0.5878517/0.5703271\n",
      "\n",
      "feat MA_Proposed_Amount, CV score on valid/test: 0.5547185/0.5527707\n",
      "\n",
      "feat PAYMD2TOTPAYM, CV score on valid/test: 0.6612326/0.5564133\n",
      "\n",
      "feat PTI, CV score on valid/test: 0.6265637/0.6046977\n",
      "\n",
      "feat ratio_inst_amount, CV score on valid/test: 0.6175470/0.5987597\n",
      "\n",
      "feat diff_white_pti, CV score on valid/test: 0.6366125/0.6211505\n",
      "\n",
      "feat ratio_time_job, CV score on valid/test: 0.5883688/0.5919449\n",
      "\n",
      "feat ratio_amount_income, CV score on valid/test: 0.6025186/0.6085486\n",
      "\n"
     ]
    }
   ],
   "source": [
    "# прогон с новыми гиперпараметрами\n",
    "all_oof_new, all_pred_new = lgb_feats(param, final_param_dict_new, train_enc, test_enc, y_train, y_test)"
   ]
  },
  {
   "cell_type": "code",
   "execution_count": null,
   "metadata": {},
   "outputs": [],
   "source": [
    "# прогон с новыми гиперпараметрами\n",
    "all_oof_new, all_pred_new = lgb_feats(param, final_param_dict_new, train_enc, test_enc, y_train, y_test)"
   ]
  },
  {
   "cell_type": "code",
   "execution_count": null,
   "metadata": {},
   "outputs": [],
   "source": [
    "pred_other, oof_other"
   ]
  },
  {
   "cell_type": "code",
   "execution_count": 211,
   "metadata": {},
   "outputs": [
    {
     "data": {
      "text/plain": [
       "(15158, 14)"
      ]
     },
     "execution_count": 211,
     "metadata": {},
     "output_type": "execute_result"
    }
   ],
   "source": [
    "all_oof_new[:,:len(feat_encodes)+1].shape"
   ]
  },
  {
   "cell_type": "code",
   "execution_count": 228,
   "metadata": {},
   "outputs": [
    {
     "data": {
      "text/plain": [
       "array([[1.        , 0.46685109, 0.14067393, ..., 0.55943425, 0.19350627,\n",
       "        0.24200303],\n",
       "       [1.        , 0.47037265, 0.21406765, ..., 0.08386685, 0.12161691,\n",
       "        0.12060977],\n",
       "       [1.        , 0.27309641, 0.43765967, ..., 0.16667227, 0.20448327,\n",
       "        0.29369688],\n",
       "       ...,\n",
       "       [1.        , 0.25249828, 0.18157046, ..., 0.14429967, 0.18519256,\n",
       "        0.15873457],\n",
       "       [1.        , 0.21661611, 0.3087727 , ..., 0.3378521 , 0.24964109,\n",
       "        0.23957489],\n",
       "       [1.        , 0.30172209, 0.44102588, ..., 0.28155164, 0.22258197,\n",
       "        0.08545286]])"
      ]
     },
     "execution_count": 228,
     "metadata": {},
     "output_type": "execute_result"
    }
   ],
   "source": [
    "all_oof_new[:,:]"
   ]
  },
  {
   "cell_type": "code",
   "execution_count": 230,
   "metadata": {},
   "outputs": [],
   "source": [
    "new_all_oof = np.concatenate((all_oof_new[:,:], oof_other.reshape(len(oof_other), 1)), axis=1)\n",
    "new_all_pred = np.concatenate((all_pred_new[:,:], pred_other.reshape(len(pred_other), 1)), axis=1)"
   ]
  },
  {
   "cell_type": "code",
   "execution_count": 16,
   "metadata": {},
   "outputs": [],
   "source": [
    "all_oof_new = pd.read_csv('data/all_oof.csv')\n",
    "all_pred_new = pd.read_csv('data/all_pred.csv')"
   ]
  },
  {
   "cell_type": "code",
   "execution_count": null,
   "metadata": {},
   "outputs": [],
   "source": [
    "# последние данные\n",
    "logr = Logit(y_train, all_oof_new)\n",
    "logr = logr.fit(disp=0)\n",
    "ensemble_preds = logr.predict(all_oof_new)\n",
    "\n",
    "print('valid:  ', roc_auc_score(y_train, ensemble_preds))\n",
    "\n",
    "ensemble_pred_test = logr.predict(all_pred_new)\n",
    "print('test:  ', roc_auc_score(y_test, ensemble_pred_test)) "
   ]
  },
  {
   "cell_type": "code",
   "execution_count": 170,
   "metadata": {},
   "outputs": [
    {
     "name": "stdout",
     "output_type": "stream",
     "text": [
      "valid:   0.8082907564471435\n",
      "test:   0.7583899035178969\n"
     ]
    }
   ],
   "source": [
    "logr = Logit(y_train, all_oof_new[:,:len(feat_encodes)+1])\n",
    "logr = logr.fit(disp=0)\n",
    "ensemble_preds = logr.predict(all_oof_new[:,:len(feat_encodes)+1])\n",
    "\n",
    "print('valid:  ', roc_auc_score(y_train, ensemble_preds))\n",
    "\n",
    "ensemble_pred_test = logr.predict(all_pred_new[:,:len(feat_encodes)+1])\n",
    "print('test:  ', roc_auc_score(y_test, ensemble_pred_test)) "
   ]
  },
  {
   "cell_type": "code",
   "execution_count": 171,
   "metadata": {},
   "outputs": [],
   "source": [
    "pd.DataFrame(all_oof_new).to_csv('data/all_oof.csv', index=False)\n",
    "pd.DataFrame(all_pred_new).to_csv('data/all_pred.csv', index=False)"
   ]
  },
  {
   "cell_type": "code",
   "execution_count": 105,
   "metadata": {},
   "outputs": [],
   "source": [
    "logr = Logit(y_train, all_oof[:,:len(feat_encodes)+1])\n",
    "logr = logr.fit(disp=0)\n",
    "ensemble_preds = logr.predict(all_oof[:,:len(feat_encodes)+1])\n",
    "\n",
    "ensemble_auc = roc_auc_score(y_train, ensemble_preds) "
   ]
  },
  {
   "cell_type": "code",
   "execution_count": 106,
   "metadata": {},
   "outputs": [
    {
     "data": {
      "text/plain": [
       "0.8077369476178142"
      ]
     },
     "execution_count": 106,
     "metadata": {},
     "output_type": "execute_result"
    }
   ],
   "source": [
    "ensemble_auc"
   ]
  },
  {
   "cell_type": "code",
   "execution_count": 107,
   "metadata": {},
   "outputs": [
    {
     "data": {
      "text/plain": [
       "0.7550323334798975"
      ]
     },
     "execution_count": 107,
     "metadata": {},
     "output_type": "execute_result"
    }
   ],
   "source": [
    "ensemble_pred_test = logr.predict(all_pred[:,:len(feat_encodes)+1])\n",
    "roc_auc_score(y_test, ensemble_pred_test) "
   ]
  },
  {
   "cell_type": "code",
   "execution_count": null,
   "metadata": {},
   "outputs": [],
   "source": []
  }
 ],
 "metadata": {
  "kernelspec": {
   "display_name": "Python 3",
   "language": "python",
   "name": "python3"
  },
  "language_info": {
   "codemirror_mode": {
    "name": "ipython",
    "version": 3
   },
   "file_extension": ".py",
   "mimetype": "text/x-python",
   "name": "python",
   "nbconvert_exporter": "python",
   "pygments_lexer": "ipython3",
   "version": "3.6.8"
  }
 },
 "nbformat": 4,
 "nbformat_minor": 4
}

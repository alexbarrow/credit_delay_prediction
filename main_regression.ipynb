{
 "cells": [
  {
   "cell_type": "code",
   "execution_count": 34,
   "metadata": {},
   "outputs": [],
   "source": [
    "import pandas as pd\n",
    "import numpy as np\n",
    "import seaborn as sns\n",
    "import warnings\n",
    "import matplotlib.pyplot as plt\n",
    "from sklearn.model_selection import train_test_split\n",
    "from sklearn.model_selection import StratifiedKFold, KFold\n",
    "from sklearn.linear_model import LogisticRegression\n",
    "\n",
    "from sklearn.preprocessing import StandardScaler, MinMaxScaler\n",
    "from sklearn.metrics import roc_auc_score\n",
    "warnings.simplefilter(action='ignore')"
   ]
  },
  {
   "cell_type": "code",
   "execution_count": 9,
   "metadata": {},
   "outputs": [
    {
     "name": "stdout",
     "output_type": "stream",
     "text": [
      "(17831, 42)\n"
     ]
    }
   ],
   "source": [
    "data = pd.read_csv('data/clean_data_ohe.csv')\n",
    "print(data.shape)\n",
    "target = data['bad']\n",
    "data.drop(['bad', 'DaysInCollection_one'], axis=1, inplace=True)"
   ]
  },
  {
   "cell_type": "code",
   "execution_count": 10,
   "metadata": {},
   "outputs": [],
   "source": [
    "X_train, X_test, y_train, y_test = train_test_split(data, target, test_size=0.15, random_state=42)"
   ]
  },
  {
   "cell_type": "code",
   "execution_count": 13,
   "metadata": {},
   "outputs": [],
   "source": [
    "num_feats = ['mob', 'MOB_term', 'Credit_TermApr', 'maxdelay_one', 'MA_AGE', 'MA_MONTH_AT_CURR_ADDRESS', 'MA_MONTH_AT_CURR_PASSP', 'MA_MONTH_AT_CURR_JOB',\n",
    "            'MA_Time_Previous_Job', 'MA_Proposed_Amount', 'TOT_INCOME', 'PARTWH_INCOME', 'PAYMD2TOTPAYM', 'PTI', 'ratio_curr_cap_share', 'larger_diff_term', 'ratio_inst_amount', 'freq_nnkd']"
   ]
  },
  {
   "cell_type": "code",
   "execution_count": 6,
   "metadata": {},
   "outputs": [
    {
     "data": {
      "text/html": [
       "<div>\n",
       "<style scoped>\n",
       "    .dataframe tbody tr th:only-of-type {\n",
       "        vertical-align: middle;\n",
       "    }\n",
       "\n",
       "    .dataframe tbody tr th {\n",
       "        vertical-align: top;\n",
       "    }\n",
       "\n",
       "    .dataframe thead th {\n",
       "        text-align: right;\n",
       "    }\n",
       "</style>\n",
       "<table border=\"1\" class=\"dataframe\">\n",
       "  <thead>\n",
       "    <tr style=\"text-align: right;\">\n",
       "      <th></th>\n",
       "      <th>mob</th>\n",
       "      <th>MOB_term</th>\n",
       "      <th>Credit_TermApr</th>\n",
       "      <th>maxdelay_one</th>\n",
       "      <th>DaysInCollection_one</th>\n",
       "      <th>MA_AGE</th>\n",
       "      <th>MA_MONTH_AT_CURR_ADDRESS</th>\n",
       "      <th>MA_MONTH_AT_CURR_PASSP</th>\n",
       "      <th>MA_MONTH_AT_CURR_JOB</th>\n",
       "      <th>MA_Time_Previous_Job</th>\n",
       "      <th>MA_Proposed_Amount</th>\n",
       "      <th>TOT_INCOME</th>\n",
       "      <th>PARTWH_INCOME</th>\n",
       "      <th>PAYMD2TOTPAYM</th>\n",
       "      <th>PTI</th>\n",
       "      <th>ratio_curr_cap_share</th>\n",
       "      <th>larger_diff_term</th>\n",
       "      <th>ratio_inst_amount</th>\n",
       "      <th>freq_nnkd</th>\n",
       "    </tr>\n",
       "  </thead>\n",
       "  <tbody>\n",
       "    <tr>\n",
       "      <th>0</th>\n",
       "      <td>11</td>\n",
       "      <td>0.180328</td>\n",
       "      <td>61</td>\n",
       "      <td>27</td>\n",
       "      <td>17</td>\n",
       "      <td>39</td>\n",
       "      <td>419</td>\n",
       "      <td>48</td>\n",
       "      <td>71</td>\n",
       "      <td>4</td>\n",
       "      <td>485000</td>\n",
       "      <td>44700.00</td>\n",
       "      <td>1.0</td>\n",
       "      <td>0.324721</td>\n",
       "      <td>0.312136</td>\n",
       "      <td>0.092341</td>\n",
       "      <td>1</td>\n",
       "      <td>228.728852</td>\n",
       "      <td>8</td>\n",
       "    </tr>\n",
       "    <tr>\n",
       "      <th>1</th>\n",
       "      <td>8</td>\n",
       "      <td>0.666667</td>\n",
       "      <td>12</td>\n",
       "      <td>16</td>\n",
       "      <td>18</td>\n",
       "      <td>54</td>\n",
       "      <td>245</td>\n",
       "      <td>108</td>\n",
       "      <td>15</td>\n",
       "      <td>84</td>\n",
       "      <td>175000</td>\n",
       "      <td>51370.00</td>\n",
       "      <td>1.0</td>\n",
       "      <td>0.823204</td>\n",
       "      <td>0.322132</td>\n",
       "      <td>0.886047</td>\n",
       "      <td>1</td>\n",
       "      <td>1378.994167</td>\n",
       "      <td>6</td>\n",
       "    </tr>\n",
       "    <tr>\n",
       "      <th>2</th>\n",
       "      <td>6</td>\n",
       "      <td>0.500000</td>\n",
       "      <td>12</td>\n",
       "      <td>16</td>\n",
       "      <td>4</td>\n",
       "      <td>54</td>\n",
       "      <td>245</td>\n",
       "      <td>108</td>\n",
       "      <td>15</td>\n",
       "      <td>84</td>\n",
       "      <td>175000</td>\n",
       "      <td>51370.00</td>\n",
       "      <td>1.0</td>\n",
       "      <td>0.802756</td>\n",
       "      <td>0.322132</td>\n",
       "      <td>0.441420</td>\n",
       "      <td>1</td>\n",
       "      <td>1378.994167</td>\n",
       "      <td>6</td>\n",
       "    </tr>\n",
       "    <tr>\n",
       "      <th>3</th>\n",
       "      <td>8</td>\n",
       "      <td>0.131148</td>\n",
       "      <td>61</td>\n",
       "      <td>29</td>\n",
       "      <td>32</td>\n",
       "      <td>37</td>\n",
       "      <td>60</td>\n",
       "      <td>49</td>\n",
       "      <td>54</td>\n",
       "      <td>156</td>\n",
       "      <td>400000</td>\n",
       "      <td>50000.00</td>\n",
       "      <td>1.0</td>\n",
       "      <td>0.323370</td>\n",
       "      <td>0.230144</td>\n",
       "      <td>0.059780</td>\n",
       "      <td>1</td>\n",
       "      <td>188.642459</td>\n",
       "      <td>8</td>\n",
       "    </tr>\n",
       "    <tr>\n",
       "      <th>4</th>\n",
       "      <td>6</td>\n",
       "      <td>0.162162</td>\n",
       "      <td>37</td>\n",
       "      <td>48</td>\n",
       "      <td>32</td>\n",
       "      <td>36</td>\n",
       "      <td>249</td>\n",
       "      <td>6</td>\n",
       "      <td>23</td>\n",
       "      <td>38</td>\n",
       "      <td>240000</td>\n",
       "      <td>36726.85</td>\n",
       "      <td>0.0</td>\n",
       "      <td>0.461872</td>\n",
       "      <td>0.282515</td>\n",
       "      <td>0.087343</td>\n",
       "      <td>1</td>\n",
       "      <td>280.429189</td>\n",
       "      <td>5</td>\n",
       "    </tr>\n",
       "    <tr>\n",
       "      <th>...</th>\n",
       "      <td>...</td>\n",
       "      <td>...</td>\n",
       "      <td>...</td>\n",
       "      <td>...</td>\n",
       "      <td>...</td>\n",
       "      <td>...</td>\n",
       "      <td>...</td>\n",
       "      <td>...</td>\n",
       "      <td>...</td>\n",
       "      <td>...</td>\n",
       "      <td>...</td>\n",
       "      <td>...</td>\n",
       "      <td>...</td>\n",
       "      <td>...</td>\n",
       "      <td>...</td>\n",
       "      <td>...</td>\n",
       "      <td>...</td>\n",
       "      <td>...</td>\n",
       "      <td>...</td>\n",
       "    </tr>\n",
       "    <tr>\n",
       "      <th>17826</th>\n",
       "      <td>12</td>\n",
       "      <td>0.705882</td>\n",
       "      <td>17</td>\n",
       "      <td>3</td>\n",
       "      <td>2</td>\n",
       "      <td>25</td>\n",
       "      <td>88</td>\n",
       "      <td>52</td>\n",
       "      <td>9</td>\n",
       "      <td>2</td>\n",
       "      <td>50000</td>\n",
       "      <td>17000.00</td>\n",
       "      <td>0.0</td>\n",
       "      <td>0.781559</td>\n",
       "      <td>0.205794</td>\n",
       "      <td>1.207949</td>\n",
       "      <td>1</td>\n",
       "      <td>205.793529</td>\n",
       "      <td>6</td>\n",
       "    </tr>\n",
       "    <tr>\n",
       "      <th>17827</th>\n",
       "      <td>2</td>\n",
       "      <td>0.032787</td>\n",
       "      <td>61</td>\n",
       "      <td>0</td>\n",
       "      <td>15</td>\n",
       "      <td>23</td>\n",
       "      <td>89</td>\n",
       "      <td>39</td>\n",
       "      <td>5</td>\n",
       "      <td>6</td>\n",
       "      <td>200000</td>\n",
       "      <td>32000.00</td>\n",
       "      <td>1.0</td>\n",
       "      <td>0.319020</td>\n",
       "      <td>0.172618</td>\n",
       "      <td>0.009013</td>\n",
       "      <td>1</td>\n",
       "      <td>90.553770</td>\n",
       "      <td>11</td>\n",
       "    </tr>\n",
       "    <tr>\n",
       "      <th>17828</th>\n",
       "      <td>8</td>\n",
       "      <td>0.163265</td>\n",
       "      <td>49</td>\n",
       "      <td>0</td>\n",
       "      <td>1</td>\n",
       "      <td>26</td>\n",
       "      <td>107</td>\n",
       "      <td>57</td>\n",
       "      <td>6</td>\n",
       "      <td>26</td>\n",
       "      <td>150000</td>\n",
       "      <td>22900.00</td>\n",
       "      <td>1.0</td>\n",
       "      <td>0.435282</td>\n",
       "      <td>0.206372</td>\n",
       "      <td>0.106248</td>\n",
       "      <td>1</td>\n",
       "      <td>96.447143</td>\n",
       "      <td>1</td>\n",
       "    </tr>\n",
       "    <tr>\n",
       "      <th>17829</th>\n",
       "      <td>4</td>\n",
       "      <td>0.166667</td>\n",
       "      <td>24</td>\n",
       "      <td>0</td>\n",
       "      <td>4</td>\n",
       "      <td>41</td>\n",
       "      <td>96</td>\n",
       "      <td>65</td>\n",
       "      <td>83</td>\n",
       "      <td>60</td>\n",
       "      <td>40000</td>\n",
       "      <td>14500.00</td>\n",
       "      <td>1.0</td>\n",
       "      <td>0.616386</td>\n",
       "      <td>0.156886</td>\n",
       "      <td>0.111367</td>\n",
       "      <td>1</td>\n",
       "      <td>94.785000</td>\n",
       "      <td>1</td>\n",
       "    </tr>\n",
       "    <tr>\n",
       "      <th>17830</th>\n",
       "      <td>5</td>\n",
       "      <td>0.135135</td>\n",
       "      <td>37</td>\n",
       "      <td>15</td>\n",
       "      <td>3</td>\n",
       "      <td>44</td>\n",
       "      <td>25</td>\n",
       "      <td>62</td>\n",
       "      <td>6</td>\n",
       "      <td>24</td>\n",
       "      <td>84000</td>\n",
       "      <td>46640.00</td>\n",
       "      <td>1.0</td>\n",
       "      <td>0.379244</td>\n",
       "      <td>0.076456</td>\n",
       "      <td>0.056101</td>\n",
       "      <td>1</td>\n",
       "      <td>96.376486</td>\n",
       "      <td>4</td>\n",
       "    </tr>\n",
       "  </tbody>\n",
       "</table>\n",
       "<p>17831 rows × 19 columns</p>\n",
       "</div>"
      ],
      "text/plain": [
       "       mob  MOB_term  Credit_TermApr  maxdelay_one  DaysInCollection_one  \\\n",
       "0       11  0.180328              61            27                    17   \n",
       "1        8  0.666667              12            16                    18   \n",
       "2        6  0.500000              12            16                     4   \n",
       "3        8  0.131148              61            29                    32   \n",
       "4        6  0.162162              37            48                    32   \n",
       "...    ...       ...             ...           ...                   ...   \n",
       "17826   12  0.705882              17             3                     2   \n",
       "17827    2  0.032787              61             0                    15   \n",
       "17828    8  0.163265              49             0                     1   \n",
       "17829    4  0.166667              24             0                     4   \n",
       "17830    5  0.135135              37            15                     3   \n",
       "\n",
       "       MA_AGE  MA_MONTH_AT_CURR_ADDRESS  MA_MONTH_AT_CURR_PASSP  \\\n",
       "0          39                       419                      48   \n",
       "1          54                       245                     108   \n",
       "2          54                       245                     108   \n",
       "3          37                        60                      49   \n",
       "4          36                       249                       6   \n",
       "...       ...                       ...                     ...   \n",
       "17826      25                        88                      52   \n",
       "17827      23                        89                      39   \n",
       "17828      26                       107                      57   \n",
       "17829      41                        96                      65   \n",
       "17830      44                        25                      62   \n",
       "\n",
       "       MA_MONTH_AT_CURR_JOB  MA_Time_Previous_Job  MA_Proposed_Amount  \\\n",
       "0                        71                     4              485000   \n",
       "1                        15                    84              175000   \n",
       "2                        15                    84              175000   \n",
       "3                        54                   156              400000   \n",
       "4                        23                    38              240000   \n",
       "...                     ...                   ...                 ...   \n",
       "17826                     9                     2               50000   \n",
       "17827                     5                     6              200000   \n",
       "17828                     6                    26              150000   \n",
       "17829                    83                    60               40000   \n",
       "17830                     6                    24               84000   \n",
       "\n",
       "       TOT_INCOME  PARTWH_INCOME  PAYMD2TOTPAYM       PTI  \\\n",
       "0        44700.00            1.0       0.324721  0.312136   \n",
       "1        51370.00            1.0       0.823204  0.322132   \n",
       "2        51370.00            1.0       0.802756  0.322132   \n",
       "3        50000.00            1.0       0.323370  0.230144   \n",
       "4        36726.85            0.0       0.461872  0.282515   \n",
       "...           ...            ...            ...       ...   \n",
       "17826    17000.00            0.0       0.781559  0.205794   \n",
       "17827    32000.00            1.0       0.319020  0.172618   \n",
       "17828    22900.00            1.0       0.435282  0.206372   \n",
       "17829    14500.00            1.0       0.616386  0.156886   \n",
       "17830    46640.00            1.0       0.379244  0.076456   \n",
       "\n",
       "       ratio_curr_cap_share  larger_diff_term  ratio_inst_amount  freq_nnkd  \n",
       "0                  0.092341                 1         228.728852          8  \n",
       "1                  0.886047                 1        1378.994167          6  \n",
       "2                  0.441420                 1        1378.994167          6  \n",
       "3                  0.059780                 1         188.642459          8  \n",
       "4                  0.087343                 1         280.429189          5  \n",
       "...                     ...               ...                ...        ...  \n",
       "17826              1.207949                 1         205.793529          6  \n",
       "17827              0.009013                 1          90.553770         11  \n",
       "17828              0.106248                 1          96.447143          1  \n",
       "17829              0.111367                 1          94.785000          1  \n",
       "17830              0.056101                 1          96.376486          4  \n",
       "\n",
       "[17831 rows x 19 columns]"
      ]
     },
     "execution_count": 6,
     "metadata": {},
     "output_type": "execute_result"
    }
   ],
   "source": [
    "data[num_feats]"
   ]
  },
  {
   "cell_type": "code",
   "execution_count": null,
   "metadata": {},
   "outputs": [],
   "source": []
  },
  {
   "cell_type": "code",
   "execution_count": 43,
   "metadata": {},
   "outputs": [],
   "source": [
    "sc = StandardScaler()\n",
    "X_train_scaled, X_test_scaled = X_train.copy(), X_test.copy()\n",
    "\n",
    "X_train_scaled[num_feats] = sc.fit_transform(X_train_scaled[num_feats])\n",
    "X_test_scaled[num_feats] = sc.transform(X_test_scaled[num_feats])"
   ]
  },
  {
   "cell_type": "code",
   "execution_count": 96,
   "metadata": {},
   "outputs": [],
   "source": [
    "#c_list = [0.001, 0.005, 0.01, 0.05, 0.1, 0.5]\n",
    "c_list = np.linspace(0.002, 0.005, num=50)\n",
    "tol_list = [0.01]\n",
    "l1_ration_list = [0.45, 0.5, 0.55]"
   ]
  },
  {
   "cell_type": "code",
   "execution_count": null,
   "metadata": {},
   "outputs": [],
   "source": [
    "%%time\n",
    "max_par = [0, 0, 0]\n",
    "for c in c_list:\n",
    "    for tol in tol_list:\n",
    "        log_reg = LogisticRegression(penalty='l2', solver='lbfgs', C=c, tol=tol, random_state=0, class_weight='balanced').fit(X_train_scaled, y_train)\n",
    "        pred = log_reg.predict(X_test_scaled)\n",
    "        score = roc_auc_score(y_test, pred)\n",
    "        if max_par[2] < score:\n",
    "            max_par[0] = c\n",
    "            max_par[1] = tol\n",
    "            max_par[2] = score\n",
    "        print('C: {}, tol: {}, score: {:<8.7f}'.format(c, tol, score))\n",
    "\n",
    "print(max_par)"
   ]
  },
  {
   "cell_type": "code",
   "execution_count": 75,
   "metadata": {},
   "outputs": [
    {
     "data": {
      "text/plain": [
       "0.6897996357012751"
      ]
     },
     "execution_count": 75,
     "metadata": {},
     "output_type": "execute_result"
    }
   ],
   "source": [
    "log_reg = LogisticRegression(penalty='l2', solver='lbfgs', C=0.05931034482758621, tol=0.1, random_state=0, class_weight='balanced').fit(X_train_scaled, y_train)\n",
    "pred = log_reg.predict(X_test_scaled)\n",
    "roc_auc_score(y_test, pred)"
   ]
  },
  {
   "cell_type": "code",
   "execution_count": null,
   "metadata": {},
   "outputs": [],
   "source": [
    "%%time\n",
    "max_par = [0, 0, 0]\n",
    "for c in c_list:\n",
    "    for tol in tol_list:\n",
    "        log_reg = LogisticRegression(penalty='l1', solver='liblinear', C=c, tol=tol, random_state=0, class_weight='balanced').fit(X_train_scaled, y_train)\n",
    "        pred = log_reg.predict(X_test_scaled)\n",
    "        score = roc_auc_score(y_test, pred)\n",
    "        if max_par[2] < score:\n",
    "            max_par[0] = c\n",
    "            max_par[1] = tol\n",
    "            max_par[2] = score\n",
    "        print('C: {}, tol: {}, score: {:<8.7f}'.format(c, tol, score))\n",
    "\n",
    "print(max_par)"
   ]
  },
  {
   "cell_type": "code",
   "execution_count": 85,
   "metadata": {},
   "outputs": [
    {
     "data": {
      "text/plain": [
       "0.6956826264203313"
      ]
     },
     "execution_count": 85,
     "metadata": {},
     "output_type": "execute_result"
    }
   ],
   "source": [
    "log_reg = LogisticRegression(penalty='l1', solver='liblinear', C=0.0027894736842105266, tol=0.01, random_state=0, class_weight='balanced').fit(X_train_scaled, y_train)\n",
    "pred = log_reg.predict(X_test_scaled)\n",
    "roc_auc_score(y_test, pred)"
   ]
  },
  {
   "cell_type": "code",
   "execution_count": null,
   "metadata": {},
   "outputs": [],
   "source": [
    "%%time\n",
    "max_par = [0, 0, 0, 0]\n",
    "for c in c_list:\n",
    "    for tol in tol_list:\n",
    "        for ll in l1_ration_list:\n",
    "            log_reg = LogisticRegression(penalty='elasticnet', solver='saga', C=c, tol=tol, l1_ratio=ll, random_state=0, class_weight='balanced').fit(X_train_scaled, y_train)\n",
    "            pred = log_reg.predict(X_test_scaled)\n",
    "            score = roc_auc_score(y_test, pred)\n",
    "            if max_par[3] < score:\n",
    "                max_par[0] = c\n",
    "                max_par[1] = tol\n",
    "                max_par[2] = ll\n",
    "                max_par[3] = score\n",
    "            print('C: {}, tol: {}, ll: {}, score: {:<8.7f}'.format(c, tol, ll, score))\n",
    "\n",
    "print(max_par)"
   ]
  },
  {
   "cell_type": "code",
   "execution_count": 98,
   "metadata": {},
   "outputs": [
    {
     "data": {
      "text/plain": [
       "0.6973479920201231"
      ]
     },
     "execution_count": 98,
     "metadata": {},
     "output_type": "execute_result"
    }
   ],
   "source": [
    "log_reg = LogisticRegression(penalty='elasticnet', solver='saga', C=0.003408163265306122, tol=0.01, l1_ratio=0.45, random_state=0, class_weight='balanced').fit(X_train_scaled, y_train)\n",
    "pred = log_reg.predict(X_test_scaled)\n",
    "roc_auc_score(y_test, pred)"
   ]
  },
  {
   "cell_type": "code",
   "execution_count": 120,
   "metadata": {},
   "outputs": [
    {
     "data": {
      "text/plain": [
       "array([-0.00466085,  0.        ,  0.        ,  0.98433908,  0.        ,\n",
       "        0.02411937,  0.        ,  0.        ,  0.        ,  0.        ,\n",
       "        0.        , -0.07377623, -0.01678334,  0.        ,  0.        ,\n",
       "        0.04257597,  0.        ,  0.        , -0.14719348,  0.00475934,\n",
       "        0.05184266,  0.        ,  0.        , -0.53519138,  0.        ,\n",
       "        0.        , -0.03201415,  0.        ,  0.        ,  0.        ,\n",
       "        0.        ,  0.        ,  0.        ,  0.        ,  0.        ,\n",
       "        0.        ,  0.        ,  0.        , -0.00884264,  0.        ])"
      ]
     },
     "execution_count": 120,
     "metadata": {},
     "output_type": "execute_result"
    }
   ],
   "source": [
    "log_reg.coef_[0]"
   ]
  },
  {
   "cell_type": "code",
   "execution_count": 112,
   "metadata": {},
   "outputs": [],
   "source": [
    "indx = np.where(log_reg.coef_[0]!=0)"
   ]
  },
  {
   "cell_type": "code",
   "execution_count": 118,
   "metadata": {},
   "outputs": [
    {
     "data": {
      "text/plain": [
       "(array([ 0,  3,  5, 11, 12, 15, 18, 19, 20, 23, 26, 38], dtype=int64),)"
      ]
     },
     "execution_count": 118,
     "metadata": {},
     "output_type": "execute_result"
    }
   ],
   "source": [
    "indx"
   ]
  },
  {
   "cell_type": "code",
   "execution_count": 117,
   "metadata": {},
   "outputs": [
    {
     "data": {
      "text/plain": [
       "Index(['mob', 'maxdelay_one', 'MA_AGE', 'MA_MONTH_AT_CURR_PASSP', 'MA_Exp_IND',\n",
       "       'MA_Proposed_Amount', 'PAYMD2TOTPAYM', 'PTI', 'ratio_curr_cap_share',\n",
       "       'freq_nnkd', 'MA_Education_2', 'MA_Residential_Status_4'],\n",
       "      dtype='object')"
      ]
     },
     "execution_count": 117,
     "metadata": {},
     "output_type": "execute_result"
    }
   ],
   "source": [
    "X_test.columns[indx]"
   ]
  },
  {
   "cell_type": "code",
   "execution_count": null,
   "metadata": {},
   "outputs": [],
   "source": []
  }
 ],
 "metadata": {
  "kernelspec": {
   "display_name": "Python 3",
   "language": "python",
   "name": "python3"
  },
  "language_info": {
   "codemirror_mode": {
    "name": "ipython",
    "version": 3
   },
   "file_extension": ".py",
   "mimetype": "text/x-python",
   "name": "python",
   "nbconvert_exporter": "python",
   "pygments_lexer": "ipython3",
   "version": "3.6.8"
  }
 },
 "nbformat": 4,
 "nbformat_minor": 4
}
